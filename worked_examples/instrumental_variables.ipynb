{
 "cells": [
  {
   "cell_type": "markdown",
   "metadata": {},
   "source": [
    "# Instrumental variables\n",
    "\n",
    "Identify instrumental variable\n",
    "\n",
    "Perform 2 stages least squares, 2SLS\n",
    "1. Regression where outcome is treatment, and predictors are the instrumental variable and then any measured confounders you want to include\n",
    "2. Regression where outcome is the outcome, and predictors are the fitted values (i.e. treatment with no omitted variable bias) from the first model, and then your measured confounders again.\n",
    "\n",
    "<mark>why do you have to include those confoudners both times?</mark>\n",
    "* Included in first stage to reflect exogenous movement in treatment\n",
    "* Included in second stage to avoid omitted variable bias\n",
    "\n",
    "## Python example\n",
    "\n",
    "This example is taken from [Causal Inference for the Brave and True](https://matheusfacure.github.io/python-causality-handbook/landing-page.html) (MIT license).\n",
    "\n",
    "Interested in causal effect of education on wage. Confounders like ability (which affect education and wage).\n",
    "\n",
    "````{mermaid}\n",
    "  flowchart LR;\n",
    "\n",
    "    e(\"Education<br>(years of schooling)\"):::green;\n",
    "    o(\"Wage\"):::green;\n",
    "    c(\"Year of birth<br>State of birth<br>Ability\"):::white;\n",
    "\n",
    "    e --> o;\n",
    "    c --> e; c --> o;\n",
    "  \n",
    "    classDef white fill:#FFFFFF, stroke:#FFFFFF;\n",
    "    classDef black fill:#FFFFFF, stroke:#000000;\n",
    "    classDef empty width:0px,height:0px;\n",
    "    classDef green fill:#DDF2D1, stroke: #FFFFFF;\n",
    "````"
   ]
  },
  {
   "cell_type": "markdown",
   "metadata": {},
   "source": [
    "Quarter of birth (i.e. dividing year into Q1, Q2, Q3, Q4) impacts education (kids born earlier in school year start education at older age than kids born later in school year), and does not impact wage (other than through its impact on education).\n",
    "\n",
    "````{mermaid}\n",
    "  flowchart LR;\n",
    "\n",
    "    e(\"Education<br>(years of schooling)\"):::green;\n",
    "    o(\"Wage\"):::green;\n",
    "    c(\"Year of birth<br>State of birth<br>Ability\"):::white;\n",
    "    i(\"Quarter of birth\"):::white;\n",
    "\n",
    "    i --> e;\n",
    "    e --> o;\n",
    "    c --> e; c --> o;\n",
    "  \n",
    "    classDef white fill:#FFFFFF, stroke:#FFFFFF;\n",
    "    classDef black fill:#FFFFFF, stroke:#000000;\n",
    "    classDef empty width:0px,height:0px;\n",
    "    classDef green fill:#DDF2D1, stroke: #FFFFFF;\n",
    "````"
   ]
  },
  {
   "cell_type": "code",
   "execution_count": 10,
   "metadata": {},
   "outputs": [],
   "source": [
    "# Import packages\n",
    "from dataclasses import dataclass\n",
    "import matplotlib.pyplot as plt\n",
    "import os\n",
    "import pandas as pd\n",
    "import statsmodels.formula.api as smf\n",
    "\n",
    "# Define file paths\n",
    "@dataclass(frozen=True)\n",
    "class Paths:\n",
    "    '''Singleton object for storing paths to data and database.'''\n",
    "\n",
    "    data = '../data'\n",
    "    ak91 = 'ak91.csv'\n",
    "\n",
    "\n",
    "paths = Paths()"
   ]
  },
  {
   "cell_type": "code",
   "execution_count": 2,
   "metadata": {},
   "outputs": [
    {
     "data": {
      "text/html": [
       "<div>\n",
       "<style scoped>\n",
       "    .dataframe tbody tr th:only-of-type {\n",
       "        vertical-align: middle;\n",
       "    }\n",
       "\n",
       "    .dataframe tbody tr th {\n",
       "        vertical-align: top;\n",
       "    }\n",
       "\n",
       "    .dataframe thead th {\n",
       "        text-align: right;\n",
       "    }\n",
       "</style>\n",
       "<table border=\"1\" class=\"dataframe\">\n",
       "  <thead>\n",
       "    <tr style=\"text-align: right;\">\n",
       "      <th></th>\n",
       "      <th>log_wage</th>\n",
       "      <th>years_of_schooling</th>\n",
       "      <th>year_of_birth</th>\n",
       "      <th>quarter_of_birth</th>\n",
       "      <th>state_of_birth</th>\n",
       "    </tr>\n",
       "  </thead>\n",
       "  <tbody>\n",
       "    <tr>\n",
       "      <th>0</th>\n",
       "      <td>5.790019</td>\n",
       "      <td>12.0</td>\n",
       "      <td>30.0</td>\n",
       "      <td>1.0</td>\n",
       "      <td>45.0</td>\n",
       "    </tr>\n",
       "    <tr>\n",
       "      <th>1</th>\n",
       "      <td>5.952494</td>\n",
       "      <td>11.0</td>\n",
       "      <td>30.0</td>\n",
       "      <td>1.0</td>\n",
       "      <td>45.0</td>\n",
       "    </tr>\n",
       "    <tr>\n",
       "      <th>2</th>\n",
       "      <td>5.315949</td>\n",
       "      <td>12.0</td>\n",
       "      <td>30.0</td>\n",
       "      <td>1.0</td>\n",
       "      <td>45.0</td>\n",
       "    </tr>\n",
       "    <tr>\n",
       "      <th>3</th>\n",
       "      <td>5.595926</td>\n",
       "      <td>12.0</td>\n",
       "      <td>30.0</td>\n",
       "      <td>1.0</td>\n",
       "      <td>45.0</td>\n",
       "    </tr>\n",
       "    <tr>\n",
       "      <th>4</th>\n",
       "      <td>6.068915</td>\n",
       "      <td>12.0</td>\n",
       "      <td>30.0</td>\n",
       "      <td>1.0</td>\n",
       "      <td>37.0</td>\n",
       "    </tr>\n",
       "  </tbody>\n",
       "</table>\n",
       "</div>"
      ],
      "text/plain": [
       "   log_wage  years_of_schooling  year_of_birth  quarter_of_birth  \\\n",
       "0  5.790019                12.0           30.0               1.0   \n",
       "1  5.952494                11.0           30.0               1.0   \n",
       "2  5.315949                12.0           30.0               1.0   \n",
       "3  5.595926                12.0           30.0               1.0   \n",
       "4  6.068915                12.0           30.0               1.0   \n",
       "\n",
       "   state_of_birth  \n",
       "0            45.0  \n",
       "1            45.0  \n",
       "2            45.0  \n",
       "3            45.0  \n",
       "4            37.0  "
      ]
     },
     "execution_count": 2,
     "metadata": {},
     "output_type": "execute_result"
    }
   ],
   "source": [
    "# Import data\n",
    "data = pd.read_csv(os.path.join(paths.data, paths.ak91))\n",
    "data.head()"
   ]
  },
  {
   "cell_type": "markdown",
   "metadata": {},
   "source": [
    "Convert quarter of birth into a dummy variable"
   ]
  },
  {
   "cell_type": "code",
   "execution_count": 9,
   "metadata": {},
   "outputs": [
    {
     "data": {
      "text/html": [
       "<div>\n",
       "<style scoped>\n",
       "    .dataframe tbody tr th:only-of-type {\n",
       "        vertical-align: middle;\n",
       "    }\n",
       "\n",
       "    .dataframe tbody tr th {\n",
       "        vertical-align: top;\n",
       "    }\n",
       "\n",
       "    .dataframe thead th {\n",
       "        text-align: right;\n",
       "    }\n",
       "</style>\n",
       "<table border=\"1\" class=\"dataframe\">\n",
       "  <thead>\n",
       "    <tr style=\"text-align: right;\">\n",
       "      <th></th>\n",
       "      <th>log_wage</th>\n",
       "      <th>years_of_schooling</th>\n",
       "      <th>year_of_birth</th>\n",
       "      <th>quarter_of_birth</th>\n",
       "      <th>state_of_birth</th>\n",
       "      <th>q1</th>\n",
       "      <th>q2</th>\n",
       "      <th>q3</th>\n",
       "      <th>q4</th>\n",
       "    </tr>\n",
       "  </thead>\n",
       "  <tbody>\n",
       "    <tr>\n",
       "      <th>0</th>\n",
       "      <td>5.790019</td>\n",
       "      <td>12.0</td>\n",
       "      <td>30.0</td>\n",
       "      <td>1.0</td>\n",
       "      <td>45.0</td>\n",
       "      <td>1</td>\n",
       "      <td>0</td>\n",
       "      <td>0</td>\n",
       "      <td>0</td>\n",
       "    </tr>\n",
       "    <tr>\n",
       "      <th>1</th>\n",
       "      <td>5.952494</td>\n",
       "      <td>11.0</td>\n",
       "      <td>30.0</td>\n",
       "      <td>1.0</td>\n",
       "      <td>45.0</td>\n",
       "      <td>1</td>\n",
       "      <td>0</td>\n",
       "      <td>0</td>\n",
       "      <td>0</td>\n",
       "    </tr>\n",
       "    <tr>\n",
       "      <th>2</th>\n",
       "      <td>5.315949</td>\n",
       "      <td>12.0</td>\n",
       "      <td>30.0</td>\n",
       "      <td>1.0</td>\n",
       "      <td>45.0</td>\n",
       "      <td>1</td>\n",
       "      <td>0</td>\n",
       "      <td>0</td>\n",
       "      <td>0</td>\n",
       "    </tr>\n",
       "    <tr>\n",
       "      <th>3</th>\n",
       "      <td>5.595926</td>\n",
       "      <td>12.0</td>\n",
       "      <td>30.0</td>\n",
       "      <td>1.0</td>\n",
       "      <td>45.0</td>\n",
       "      <td>1</td>\n",
       "      <td>0</td>\n",
       "      <td>0</td>\n",
       "      <td>0</td>\n",
       "    </tr>\n",
       "    <tr>\n",
       "      <th>4</th>\n",
       "      <td>6.068915</td>\n",
       "      <td>12.0</td>\n",
       "      <td>30.0</td>\n",
       "      <td>1.0</td>\n",
       "      <td>37.0</td>\n",
       "      <td>1</td>\n",
       "      <td>0</td>\n",
       "      <td>0</td>\n",
       "      <td>0</td>\n",
       "    </tr>\n",
       "  </tbody>\n",
       "</table>\n",
       "</div>"
      ],
      "text/plain": [
       "   log_wage  years_of_schooling  year_of_birth  quarter_of_birth  \\\n",
       "0  5.790019                12.0           30.0               1.0   \n",
       "1  5.952494                11.0           30.0               1.0   \n",
       "2  5.315949                12.0           30.0               1.0   \n",
       "3  5.595926                12.0           30.0               1.0   \n",
       "4  6.068915                12.0           30.0               1.0   \n",
       "\n",
       "   state_of_birth  q1  q2  q3  q4  \n",
       "0            45.0   1   0   0   0  \n",
       "1            45.0   1   0   0   0  \n",
       "2            45.0   1   0   0   0  \n",
       "3            45.0   1   0   0   0  \n",
       "4            37.0   1   0   0   0  "
      ]
     },
     "execution_count": 9,
     "metadata": {},
     "output_type": "execute_result"
    }
   ],
   "source": [
    "factor_data = data.assign(\n",
    "    **{f'q{int(q)}': (data['quarter_of_birth'] == q).astype(int)\n",
    "       for q in data['quarter_of_birth'].unique()})\n",
    "\n",
    "factor_data.head()"
   ]
  },
  {
   "cell_type": "markdown",
   "metadata": {},
   "source": [
    "Show that quarter of birth is an instrumental variable"
   ]
  },
  {
   "cell_type": "code",
   "execution_count": 11,
   "metadata": {},
   "outputs": [
    {
     "data": {
      "image/png": "[encoded data removed]",
      "text/plain": [
       "<Figure size 1500x600 with 1 Axes>"
      ]
     },
     "metadata": {},
     "output_type": "display_data"
    }
   ],
   "source": [
    "group_data = (data\n",
    "              .groupby([\"year_of_birth\", \"quarter_of_birth\"])\n",
    "              [[\"log_wage\", \"years_of_schooling\"]]\n",
    "              .mean()\n",
    "              .reset_index()\n",
    "              .assign(time_of_birth = lambda d: d[\"year_of_birth\"] + (d[\"quarter_of_birth\"])/4))\n",
    "\n",
    "plt.figure(figsize=(15,6))\n",
    "plt.plot(group_data[\"time_of_birth\"], group_data[\"years_of_schooling\"], zorder=-1)\n",
    "for q in range(1, 5):\n",
    "    x = group_data.query(f\"quarter_of_birth=={q}\")[\"time_of_birth\"]\n",
    "    y = group_data.query(f\"quarter_of_birth=={q}\")[\"years_of_schooling\"]\n",
    "    plt.scatter(x, y, marker=\"s\", s=200, c=f\"C{q}\")\n",
    "    plt.scatter(x, y, marker=f\"${q}$\", s=100, c=f\"white\")\n",
    "\n",
    "plt.title(\"Years of Education by Quarter of Birth (first stage)\")\n",
    "plt.xlabel(\"Year of Birth\")\n",
    "plt.ylabel(\"Years of Schooling\");"
   ]
  },
  {
   "cell_type": "markdown",
   "metadata": {},
   "source": [
    "For simplicity, use Q4 (yes/no) as instrument\n",
    "\n",
    "Regress on years of schooling.\n",
    "\n",
    "Will again show that this is an instrumental variable - more rigorously than just a plot. Will show us if quarter of birth affects years of schooling, whilst also control for year and stat of birth.\n",
    "\n",
    "Answer: Yes. On average, 0.1 more years of education than those born in other quarters of year."
   ]
  },
  {
   "cell_type": "code",
   "execution_count": 7,
   "metadata": {},
   "outputs": [
    {
     "name": "stdout",
     "output_type": "stream",
     "text": [
      "q4 parameter estimate:,  0.10085809272786678\n",
      "q4 p-value:,  5.464829416613623e-15\n"
     ]
    }
   ],
   "source": [
    "first_stage = smf.ols(\n",
    "    'years_of_schooling ~ C(year_of_birth) + C(state_of_birth) + q4',\n",
    "    data=factor_data).fit()\n",
    "\n",
    "print(\"q4 parameter estimate:, \", first_stage.params[\"q4\"])\n",
    "print(\"q4 p-value:, \", first_stage.pvalues[\"q4\"])"
   ]
  },
  {
   "cell_type": "markdown",
   "metadata": {},
   "source": [
    "<mark>look at this step and make sure understand:</mark> data=factor_data.assign(years_of_schooling_fitted=first_stage.fittedvalues)).fit()"
   ]
  },
  {
   "cell_type": "code",
   "execution_count": 8,
   "metadata": {},
   "outputs": [
    {
     "data": {
      "text/plain": [
       "0.08530286492089094"
      ]
     },
     "execution_count": 8,
     "metadata": {},
     "output_type": "execute_result"
    }
   ],
   "source": [
    "iv_by_hand = smf.ols(\"log_wage ~ C(year_of_birth) + C(state_of_birth) + years_of_schooling_fitted\",\n",
    "                     data=factor_data.assign(years_of_schooling_fitted=first_stage.fittedvalues)).fit()\n",
    "\n",
    "iv_by_hand.params[\"years_of_schooling_fitted\"]"
   ]
  }
 ],
 "metadata": {
  "kernelspec": {
   "display_name": "venv_birth_outcomes_book",
   "language": "python",
   "name": "python3"
  },
  "language_info": {
   "codemirror_mode": {
    "name": "ipython",
    "version": 3
   },
   "file_extension": ".py",
   "mimetype": "text/x-python",
   "name": "python",
   "nbconvert_exporter": "python",
   "pygments_lexer": "ipython3",
   "version": "3.10.12"
  }
 },
 "nbformat": 4,
 "nbformat_minor": 2
}
